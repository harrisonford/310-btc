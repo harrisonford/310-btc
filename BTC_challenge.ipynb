{
 "cells": [
  {
   "cell_type": "markdown",
   "metadata": {},
   "source": [
    "# Bitcoin Challenge"
   ]
  },
  {
   "cell_type": "markdown",
   "metadata": {},
   "source": [
    "## Contents\n",
    "\n",
    "* [Shout-outs](#shoutout)\n",
    "* [The original image](#challenge)\n",
    "* [Key #1: HEX keys](#hexes)\n",
    "* [Key #2: QR in Alpha layer and Bezier Curves](#layers)\n"
   ]
  },
  {
   "cell_type": "markdown",
   "metadata": {},
   "source": [
    "<a id='shoutout'></a>\n",
    "## Shout-outs and credits\n",
    "\n",
    "First: If you feel I need to credit (as in saying thanks, not paying) you in some way please feel free to contact to my mail.\n",
    "\n",
    "Credits go to: \n",
    "* [u/JTobcat](https://www.reddit.com/user/JTobcat) for his [amazing google doc](https://docs.google.com/document/d/1nUAhlC_n21ZLZcRAHpLw9G--gpk4NUVIJqVp9F68qp4/preview). A ramp-up/compilation of pretty much every info about solving this you can get.\n",
    "\n",
    "* [u/crypto_jedi_ninja](https://www.reddit.com/user/crypto_jedi_ninja) for making the first list in [the reddit](https://www.reddit.com/r/Bitcoin/comments/9kq7it/introducing_the_310_btc_bitcoin_challenge/) I used to orientate myself.\n",
    "\n",
    "* [u/pip](https://www.reddit.com/user/bitcoin-challenge) of course for making the challenge."
   ]
  },
  {
   "cell_type": "markdown",
   "metadata": {},
   "source": [
    "<a id='challenge'></a>\n",
    "## This is the image-riddle\n",
    "It has hidden somewhere in someway 3 small BTC wallets with 0.1, 0.2 and 0.31 BTC respectively and the grand prize of a 310 BTC wallet.\n",
    "\n",
    "![Samuel Madariaga Roman suck a dick](challenge.png)"
   ]
  },
  {
   "cell_type": "markdown",
   "metadata": {},
   "source": [
    "<a id='hexes'></a>\n",
    "## 0.1 BTC Key: Transforming HEX keys\n",
    "\n",
    "You can find the following grid at the bottom of the image:"
   ]
  },
  {
   "cell_type": "code",
   "execution_count": null,
   "metadata": {},
   "outputs": [],
   "source": [
    "import pandas as pd\n",
    "\n",
    "table = pd.DataFrame([['511', 'B20', '332', '328', '410', '530'],\n",
    "                      ['22B', '0FE', '52E', 'D0F', '7A1', '65B'],\n",
    "                      ['52C', '7E7', '511', '2F6', '56F', 'C4B'], ])\n",
    "print(table)"
   ]
  },
  {
   "cell_type": "markdown",
   "metadata": {},
   "source": [
    "And just above that on the image you can find 'OCT 2 2018' printed as shown by [JTobcat's document](https://docs.google.com/document/d/1nUAhlC_n21ZLZcRAHpLw9G--gpk4NUVIJqVp9F68qp4/preview).\n",
    "\n",
    "\n",
    "![Samuel Madariaga Roman suck a dick](https://storage.googleapis.com/the_image/tobcat_oct.png)\n",
    "\n",
    "Now we do these two:\n",
    "\n",
    "* Use the date 20181002 as a shift key, shifting all the original HEX values to new values, we use the shift key using portions of three in a cyclic way, using: *201, 810, 022, 018, 100, 220, etc.* You'll notice the shift was done right because the first row are all *310*\n",
    "\n",
    "* Map to [bip39 seed words](https://github.com/bitcoin/bips) for the wallet using 1-2048 index.\n",
    "\n",
    "* *Voilá! You have the 0.1 BTC wallet!*"
   ]
  },
  {
   "cell_type": "code",
   "execution_count": null,
   "metadata": {},
   "outputs": [],
   "source": [
    "import pandas as pd\n",
    "\n",
    "table = pd.DataFrame([['511', 'B20', '332', '328', '410', '530'],\n",
    "                      ['22B', '0FE', '52E', 'D0F', '7A1', '65B'],\n",
    "                      ['52C', '7E7', '511', '2F6', '56F', 'C4B'], ])\n",
    "\n",
    "# TODO: shift values to get the shifted table:\n",
    "shifted = pd.DataFrame([['310', '310', '310', '310', '310', '310'],\n",
    "                      ['1AA', '0FC', '32D', '5FF', '78F', '643'],\n",
    "                      ['42C', '5C7', '490', '2F4', '36E', '43B'], ])\n",
    "\n",
    "# TODO: transform to decimal, come on dude don't be lazy next time *I promise I'll do it next commit\n",
    "decimal = [426, 252, 813, 1535, 1935, 1603, 1068, 1479, 1168, 756, 878, 1083]\n",
    "\n",
    "\n",
    "# TODO: translate decimal to words using https://github.com/bitcoin/bips/blob/master/bip-0039/english.txt\n",
    "bips = ['cry', 'buyer', 'grain', 'save', 'vault', 'sign', 'lyrics', 'rhythm', 'music', 'fury', 'horro', 'mansion']"
   ]
  },
  {
   "cell_type": "markdown",
   "metadata": {},
   "source": [
    "<a id='layers'></a>\n",
    "## 0.2 BTC Key: RGBA layers and Bezier curves\n",
    "\n",
    "The first thing to be found is the QR in the alpha layer:"
   ]
  },
  {
   "cell_type": "code",
   "execution_count": null,
   "metadata": {},
   "outputs": [],
   "source": [
    "import matplotlib.pyplot as plt\n",
    "%matplotlib inline\n",
    "plt.rcParams['figure.dpi'] = 150  # image quality\n",
    "\n",
    "# read image using matplotlib, no need to even use opencv\n",
    "image = plt.imread('challenge.png')\n",
    "\n",
    "# channels: 0, 1, 2 = RGB; 3 = alpha\n",
    "channel = 3\n",
    "\n",
    "plt.figure()\n",
    "plt.imshow(image[..., channel])\n"
   ]
  },
  {
   "cell_type": "markdown",
   "metadata": {},
   "source": [
    "## Reading QR Code in Alpha\n",
    "\n",
    "To decode the QR we use the [pyzbar which I just googled](https://stackoverflow.com/questions/27233351/how-to-decode-a-qr-code-image-in-preferably-pure-python):\n"
   ]
  },
  {
   "cell_type": "code",
   "execution_count": null,
   "metadata": {},
   "outputs": [],
   "source": [
    "import matplotlib.pyplot as plt\n",
    "from pyzbar.pyzbar import decode\n",
    "%matplotlib inline\n",
    "plt.rcParams['figure.dpi'] = 150  # image quality\n",
    "\n",
    "# read image\n",
    "image = plt.imread('challenge.png')\n",
    "\n",
    "# create QR instance\n",
    "# TODO: WIP \n",
    "# WIP means Work-in-Progress you silly goose\n",
    "data = decode(image[..., 3])\n",
    "print(data)"
   ]
  }
 ],
 "metadata": {
  "kernelspec": {
   "display_name": "Python 3",
   "language": "python",
   "name": "python3"
  },
  "language_info": {
   "codemirror_mode": {
    "name": "ipython",
    "version": 3
   },
   "file_extension": ".py",
   "mimetype": "text/x-python",
   "name": "python",
   "nbconvert_exporter": "python",
   "pygments_lexer": "ipython3",
   "version": "3.6.6"
  }
 },
 "nbformat": 4,
 "nbformat_minor": 2
}
